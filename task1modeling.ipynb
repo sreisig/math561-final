{
 "cells": [
  {
   "cell_type": "markdown",
   "metadata": {},
   "source": [
    "# Task 1\n",
    "###  Develop a classifier to differentiate between natural and human fire causes, so a binary classifcation. Part a aims at finding the best classifier you can, part b at finding a classifier that also works well, but is interpretable."
   ]
  },
  {
   "cell_type": "code",
   "execution_count": 1,
   "metadata": {},
   "outputs": [],
   "source": [
    "import numpy as np\n",
    "import pandas as pd\n",
    "import matplotlib.pyplot as plt\n",
    "import plotly.graph_objects as go\n",
    "from sklearn.model_selection import train_test_split, GridSearchCV\n",
    "from sklearn.preprocessing import StandardScaler\n",
    "from sklearn.metrics import confusion_matrix\n",
    "\n",
    "## CLASSIFICATION PACKAGES ##\n",
    "from sklearn.ensemble import AdaBoostClassifier, RandomForestClassifier\n",
    "from sklearn.linear_model import LogisticRegressionCV, RidgeClassifierCV\n",
    "from sklearn.neighbors import KNeighborsClassifier\n",
    "from sklearn.svm import LinearSVC\n",
    "from sklearn.tree import DecisionTreeClassifier, plot_tree"
   ]
  },
  {
   "cell_type": "markdown",
   "metadata": {},
   "source": [
    "### First we'll try some predictions with region as a variable within the classifier"
   ]
  },
  {
   "cell_type": "code",
   "execution_count": 2,
   "metadata": {},
   "outputs": [],
   "source": [
    "df = pd.read_csv('task3df.csv')\n",
    "df.drop(columns = ['Unnamed: 0'], inplace=True)\n",
    "\n",
    "X = df[[\n",
    "    'fm.mean', 'Wind.mean', 'LATITUDE', 'LONGITUDE', 'DISCOVERY_DOY',\n",
    "    'FIRE_YEAR', 'cont_time', 'PROJECTED_FINAL_IM_COST', 'ACRES',\n",
    "    'TOTAL_PERSONNEL', 'STR_DAMAGED', 'WF_FSR', 'FATALITIES', 'FIRE_SIZE',\n",
    "    'eco1_10  NORTH AMERICAN DESERTS', 'eco1_11  MEDITERRANEAN CALIFORNIA',\n",
    "    'eco1_12  SOUTHERN SEMIARID HIGHLANDS', 'eco1_13  TEMPERATE SIERRAS',\n",
    "    'eco1_15  TROPICAL WET FORESTS', 'eco1_2  TUNDRA', 'eco1_3  TAIGA',\n",
    "    'eco1_5  NORTHERN FORESTS', 'eco1_6  NORTHWESTERN FORESTED MOUNTAINS',\n",
    "    'eco1_7  MARINE WEST COAST FOREST', 'eco1_8  EASTERN TEMPERATE FORESTS',\n",
    "    'eco1_9  GREAT PLAINS', 'FUEL_MODEL_Brush (2 feet)',\n",
    "    'FUEL_MODEL_Chaparral (6 feet)', 'FUEL_MODEL_Closed Timber Litter',\n",
    "    'FUEL_MODEL_Dormant Brush, Hardwood Slash',\n",
    "    'FUEL_MODEL_Hardwood Litter', 'FUEL_MODEL_Heavy Logging Slash',\n",
    "    'FUEL_MODEL_Light Logging Slash', 'FUEL_MODEL_Medium Logging Slash',\n",
    "    'FUEL_MODEL_Short Grass (1 foot)', 'FUEL_MODEL_Southern Rough',\n",
    "    'FUEL_MODEL_Tall Grass (2.5 feet)',\n",
    "    'FUEL_MODEL_Timber (Grass and Understory)',\n",
    "    'FUEL_MODEL_Timber (Litter and Understory)', 'GROWTH_POTENTIAL_Extreme',\n",
    "    'GROWTH_POTENTIAL_High', 'GROWTH_POTENTIAL_Low',\n",
    "    'GROWTH_POTENTIAL_Medium', 'TERRAIN_Extreme', 'TERRAIN_High',\n",
    "    'TERRAIN_Low', 'TERRAIN_Medium', 'FIRE_SIZE_CLASS_A',\n",
    "    'FIRE_SIZE_CLASS_B', 'FIRE_SIZE_CLASS_C', 'FIRE_SIZE_CLASS_D',\n",
    "    'FIRE_SIZE_CLASS_E', 'FIRE_SIZE_CLASS_F', 'FIRE_SIZE_CLASS_G'\n",
    "    ]].copy()\n",
    "\n",
    "# 1 = caused by lightning\n",
    "# 0 = caused by humans\n",
    "y = df[['STAT_CAUSE_DESCR_Lightning']].copy()"
   ]
  },
  {
   "cell_type": "code",
   "execution_count": 3,
   "metadata": {},
   "outputs": [
    {
     "data": {
      "text/plain": [
       "STAT_CAUSE_DESCR_Lightning    0.797885\n",
       "dtype: float64"
      ]
     },
     "execution_count": 3,
     "metadata": {},
     "output_type": "execute_result"
    }
   ],
   "source": [
    "y.sum() / y.shape[0]"
   ]
  },
  {
   "cell_type": "markdown",
   "metadata": {},
   "source": [
    "## Part (a) - No Interpretation"
   ]
  },
  {
   "cell_type": "code",
   "execution_count": 4,
   "metadata": {},
   "outputs": [
    {
     "name": "stdout",
     "output_type": "stream",
     "text": [
      "==================\n",
      "=== No Scaling ===\n",
      "==================\n",
      "\n",
      "=== AdaBoost ===\n",
      "0.856797547459026\n",
      "Per class acc: (0.5747914183551848, 0.9632515066882258)\n",
      "Total acc: 0.8863931140195732\n",
      "\n",
      "=== Random Forest ===\n",
      "0.8029123924065559\n",
      "Per class acc: (0.9883790226460072, 0.9980890783477877)\n",
      "Total acc: 0.996167904728216\n",
      "\n",
      "=== Logistic Regression ===\n"
     ]
    },
    {
     "name": "stderr",
     "output_type": "stream",
     "text": [
      "/home/sreisig/anaconda3/envs/math561/lib/python3.7/site-packages/sklearn/linear_model/_logistic.py:764: ConvergenceWarning: lbfgs failed to converge (status=1):\n",
      "STOP: TOTAL NO. of ITERATIONS REACHED LIMIT.\n",
      "\n",
      "Increase the number of iterations (max_iter) or scale the data as shown in:\n",
      "    https://scikit-learn.org/stable/modules/preprocessing.html\n",
      "Please also refer to the documentation for alternative solver options:\n",
      "    https://scikit-learn.org/stable/modules/linear_model.html#logistic-regression\n",
      "  extra_warning_msg=_LOGISTIC_SOLVER_CONVERGENCE_MSG)\n",
      "/home/sreisig/anaconda3/envs/math561/lib/python3.7/site-packages/sklearn/linear_model/_logistic.py:764: ConvergenceWarning: lbfgs failed to converge (status=1):\n",
      "STOP: TOTAL NO. of ITERATIONS REACHED LIMIT.\n",
      "\n",
      "Increase the number of iterations (max_iter) or scale the data as shown in:\n",
      "    https://scikit-learn.org/stable/modules/preprocessing.html\n",
      "Please also refer to the documentation for alternative solver options:\n",
      "    https://scikit-learn.org/stable/modules/linear_model.html#logistic-regression\n",
      "  extra_warning_msg=_LOGISTIC_SOLVER_CONVERGENCE_MSG)\n"
     ]
    },
    {
     "name": "stdout",
     "output_type": "stream",
     "text": [
      "0.9943402900601345\n",
      "Per class acc: (0.007449344457687724, 0.994781713949728)\n",
      "Total acc: 0.7994340290060135\n",
      "\n",
      "=== K Nearest Neighbours ===\n",
      "0.8431199151043509\n",
      "Per class acc: (0.5178784266984505, 0.9321622813464648)\n",
      "Total acc: 0.8501945525291829\n",
      "\n",
      "=== Support Vector Classifier ===\n"
     ]
    },
    {
     "name": "stderr",
     "output_type": "stream",
     "text": [
      "/home/sreisig/anaconda3/envs/math561/lib/python3.7/site-packages/sklearn/svm/_base.py:977: ConvergenceWarning: Liblinear failed to converge, increase the number of iterations.\n",
      "  \"the number of iterations.\", ConvergenceWarning)\n"
     ]
    },
    {
     "name": "stdout",
     "output_type": "stream",
     "text": [
      "0.6700860747553354\n",
      "Per class acc: (0.5384386174016687, 0.721519917683375)\n",
      "Total acc: 0.6852965452187242\n",
      "\n",
      "=== Decision Tree Classifier ===\n",
      "0.8017922414809574\n",
      "Per class acc: (0.985399284862932, 0.9959576657357049)\n",
      "Total acc: 0.9938686475651456\n"
     ]
    }
   ],
   "source": [
    "def per_class_acc(y_true, y_pred):\n",
    "    cm = confusion_matrix(y_true, y_pred)\n",
    "    cm = cm.astype('float') / cm.sum(axis=1)[:, np.newaxis]\n",
    "    per_class_acc = cm.diagonal()\n",
    "    \n",
    "    return per_class_acc[0], per_class_acc[1]\n",
    "    \n",
    "    \n",
    "print(\"==================\")\n",
    "print(\"=== No Scaling ===\")\n",
    "print(\"==================\")\n",
    "X_train, X_test, y_train, y_test = train_test_split(X, y, test_size=0.2, random_state=13)\n",
    "\n",
    "print(\"\\n=== AdaBoost ===\")\n",
    "abc = AdaBoostClassifier().fit(X_train, y_train.values.ravel())\n",
    "y_pred = abc.predict(X_test)\n",
    "print(y_pred.sum()/ y_pred.shape[0])\n",
    "acc_0, acc_1 = per_class_acc(y_test, y_pred)\n",
    "print(f\"Per class acc: ({acc_0}, {acc_1})\")\n",
    "print(f\"Total acc: {abc.score(X_test, y_test)}\")\n",
    "\n",
    "print(\"\\n=== Random Forest ===\")\n",
    "rf = RandomForestClassifier().fit(X_train, y_train.values.ravel())\n",
    "y_pred = rf.predict(X_test)\n",
    "print(y_pred.sum()/ y_pred.shape[0])\n",
    "acc_0, acc_1 = per_class_acc(y_test, y_pred)\n",
    "print(f\"Per class acc: ({acc_0}, {acc_1})\")\n",
    "print(f\"Total acc: {rf.score(X_test, y_test)}\")\n",
    "\n",
    "print(\"\\n=== Logistic Regression ===\")\n",
    "lr = LogisticRegressionCV().fit(X_train, y_train.values.ravel())\n",
    "y_pred = lr.predict(X_test)\n",
    "print(y_pred.sum()/ y_pred.shape[0])\n",
    "acc_0, acc_1 = per_class_acc(y_test, y_pred)\n",
    "print(f\"Per class acc: ({acc_0}, {acc_1})\")\n",
    "print(f\"Total acc: {lr.score(X_test, y_test)}\")\n",
    "\n",
    "print(\"\\n=== K Nearest Neighbours ===\")\n",
    "knn = KNeighborsClassifier().fit(X_train, y_train.values.ravel())\n",
    "y_pred = knn.predict(X_test)\n",
    "print(y_pred.sum()/ y_pred.shape[0])\n",
    "acc_0, acc_1 = per_class_acc(y_test, y_pred)\n",
    "print(f\"Per class acc: ({acc_0}, {acc_1})\")\n",
    "print(f\"Total acc: {knn.score(X_test, y_test)}\")\n",
    "\n",
    "print(\"\\n=== Support Vector Classifier ===\")\n",
    "svm = LinearSVC().fit(X_train, y_train.values.ravel())\n",
    "y_pred = svm.predict(X_test)\n",
    "print(y_pred.sum()/ y_pred.shape[0])\n",
    "acc_0, acc_1 = per_class_acc(y_test, y_pred)\n",
    "print(f\"Per class acc: ({acc_0}, {acc_1})\")\n",
    "print(f\"Total acc: {svm.score(X_test, y_test)}\")\n",
    "\n",
    "print(\"\\n=== Decision Tree Classifier ===\")\n",
    "dtc = DecisionTreeClassifier().fit(X_train, y_train.values.ravel())\n",
    "y_pred = dtc.predict(X_test)\n",
    "print(y_pred.sum()/ y_pred.shape[0])\n",
    "acc_0, acc_1 = per_class_acc(y_test, y_pred)\n",
    "print(f\"Per class acc: ({acc_0}, {acc_1})\")\n",
    "print(f\"Total acc: {dtc.score(X_test, y_test)}\")"
   ]
  },
  {
   "cell_type": "code",
   "execution_count": 5,
   "metadata": {},
   "outputs": [
    {
     "name": "stdout",
     "output_type": "stream",
     "text": [
      "====================\n",
      "=== With Scaling ===\n",
      "====================\n",
      "\n",
      "=== AdaBoost ===\n",
      "0.856797547459026\n",
      "Per class acc: (0.5747914183551848, 0.9632515066882258)\n",
      "Total acc: 0.8863931140195732\n",
      "\n",
      "=== Random Forest ===\n",
      "0.8036198561490391\n",
      "Per class acc: (0.985399284862932, 0.9982360723210348)\n",
      "Total acc: 0.9956962622332272\n",
      "\n",
      "=== Logistic Regression ===\n",
      "0.8602759108595684\n",
      "Per class acc: (0.5122169249106079, 0.9521534617080699)\n",
      "Total acc: 0.8651102464332037\n",
      "\n",
      "=== K Nearest Neighbours ===\n",
      "0.8100459851432614\n",
      "Per class acc: (0.9091179976162098, 0.9874320152873732)\n",
      "Total acc: 0.9719372715481664\n",
      "\n",
      "=== Support Vector Classifier ===\n"
     ]
    },
    {
     "name": "stderr",
     "output_type": "stream",
     "text": [
      "/home/sreisig/anaconda3/envs/math561/lib/python3.7/site-packages/sklearn/svm/_base.py:977: ConvergenceWarning: Liblinear failed to converge, increase the number of iterations.\n",
      "  \"the number of iterations.\", ConvergenceWarning)\n"
     ]
    },
    {
     "name": "stdout",
     "output_type": "stream",
     "text": [
      "0.8649333804975828\n",
      "Per class acc: (0.5053635280095352, 0.9562692929589887)\n",
      "Total acc: 0.8670557717250325\n",
      "\n",
      "=== Decision Tree Classifier ===\n",
      "0.8013795542978422\n",
      "Per class acc: (0.9851013110846245, 0.9953696898427165)\n",
      "Total acc: 0.9933380497582832\n"
     ]
    }
   ],
   "source": [
    "print(\"====================\")\n",
    "print(\"=== With Scaling ===\")\n",
    "print(\"====================\")\n",
    "    \n",
    "# Scale continuous variables\n",
    "scaler = StandardScaler()\n",
    "X.loc[:,X.columns[0:14]] = scaler.fit_transform(X[(X.columns[0:14])])\n",
    "\n",
    "X_train, X_test, y_train, y_test = train_test_split(X, y, test_size=0.2, random_state=13)\n",
    "\n",
    "print(\"\\n=== AdaBoost ===\")\n",
    "abc = AdaBoostClassifier().fit(X_train, y_train.values.ravel())\n",
    "y_pred = abc.predict(X_test)\n",
    "print(y_pred.sum()/ y_pred.shape[0])\n",
    "acc_0, acc_1 = per_class_acc(y_test, y_pred)\n",
    "print(f\"Per class acc: ({acc_0}, {acc_1})\")\n",
    "print(f\"Total acc: {abc.score(X_test, y_test)}\")\n",
    "\n",
    "print(\"\\n=== Random Forest ===\")\n",
    "rf = RandomForestClassifier().fit(X_train, y_train.values.ravel())\n",
    "y_pred = rf.predict(X_test)\n",
    "print(y_pred.sum()/ y_pred.shape[0])\n",
    "acc_0, acc_1 = per_class_acc(y_test, y_pred)\n",
    "print(f\"Per class acc: ({acc_0}, {acc_1})\")\n",
    "print(f\"Total acc: {rf.score(X_test, y_test)}\")\n",
    "\n",
    "print(\"\\n=== Logistic Regression ===\")\n",
    "lr = LogisticRegressionCV().fit(X_train, y_train.values.ravel())\n",
    "y_pred = lr.predict(X_test)\n",
    "print(y_pred.sum()/ y_pred.shape[0])\n",
    "acc_0, acc_1 = per_class_acc(y_test, y_pred)\n",
    "print(f\"Per class acc: ({acc_0}, {acc_1})\")\n",
    "print(f\"Total acc: {lr.score(X_test, y_test)}\")\n",
    "\n",
    "print(\"\\n=== K Nearest Neighbours ===\")\n",
    "knn = KNeighborsClassifier().fit(X_train, y_train.values.ravel())\n",
    "y_pred = knn.predict(X_test)\n",
    "print(y_pred.sum()/ y_pred.shape[0])\n",
    "acc_0, acc_1 = per_class_acc(y_test, y_pred)\n",
    "print(f\"Per class acc: ({acc_0}, {acc_1})\")\n",
    "print(f\"Total acc: {knn.score(X_test, y_test)}\")\n",
    "\n",
    "print(\"\\n=== Support Vector Classifier ===\")\n",
    "svm = LinearSVC().fit(X_train, y_train.values.ravel())\n",
    "y_pred = svm.predict(X_test)\n",
    "print(y_pred.sum()/ y_pred.shape[0])\n",
    "acc_0, acc_1 = per_class_acc(y_test, y_pred)\n",
    "print(f\"Per class acc: ({acc_0}, {acc_1})\")\n",
    "print(f\"Total acc: {svm.score(X_test, y_test)}\")\n",
    "\n",
    "print(\"\\n=== Decision Tree Classifier ===\")\n",
    "dtc = DecisionTreeClassifier().fit(X_train, y_train.values.ravel())\n",
    "y_pred = dtc.predict(X_test)\n",
    "print(y_pred.sum()/ y_pred.shape[0])\n",
    "acc_0, acc_1 = per_class_acc(y_test, y_pred)\n",
    "print(f\"Per class acc: ({acc_0}, {acc_1})\")\n",
    "print(f\"Total acc: {dtc.score(X_test, y_test)}\")\n"
   ]
  },
  {
   "cell_type": "code",
   "execution_count": 6,
   "metadata": {},
   "outputs": [
    {
     "name": "stdout",
     "output_type": "stream",
     "text": [
      "=============================\n",
      "=== RF Feature Importance ===\n",
      "=============================\n"
     ]
    },
    {
     "data": {
      "text/plain": [
       "{'DISCOVERY_DOY': 0.15440237599062834,\n",
       " 'LATITUDE': 0.1327871730080289,\n",
       " 'LONGITUDE': 0.09903082453262074,\n",
       " 'FIRE_SIZE': 0.07286640598079938,\n",
       " 'cont_time': 0.07195316655065452,\n",
       " 'ACRES': 0.04992808123433597,\n",
       " 'FIRE_YEAR': 0.04730341532184076,\n",
       " 'PROJECTED_FINAL_IM_COST': 0.04081457777324488,\n",
       " 'eco1_6  NORTHWESTERN FORESTED MOUNTAINS': 0.038273322156552624,\n",
       " 'Wind.mean': 0.03536123470966787,\n",
       " 'TOTAL_PERSONNEL': 0.03041887943829399,\n",
       " 'fm.mean': 0.023431863142542995,\n",
       " 'eco1_11  MEDITERRANEAN CALIFORNIA': 0.01749397575044811,\n",
       " 'STR_DAMAGED': 0.015632406828367407,\n",
       " 'eco1_8  EASTERN TEMPERATE FORESTS': 0.014478340196525124,\n",
       " 'FUEL_MODEL_Timber (Litter and Understory)': 0.013595881718624228,\n",
       " 'WF_FSR': 0.010018492206326113,\n",
       " 'FUEL_MODEL_Chaparral (6 feet)': 0.009810106878725883,\n",
       " 'TERRAIN_High': 0.007370033679746417,\n",
       " 'TERRAIN_Extreme': 0.007287123430045459,\n",
       " 'FIRE_SIZE_CLASS_G': 0.007055245625577076,\n",
       " 'FUEL_MODEL_Tall Grass (2.5 feet)': 0.006789219231836488,\n",
       " 'GROWTH_POTENTIAL_Low': 0.0067574728527658775,\n",
       " 'TERRAIN_Medium': 0.006728515742200867,\n",
       " 'FIRE_SIZE_CLASS_F': 0.0063734392795714535,\n",
       " 'FUEL_MODEL_Timber (Grass and Understory)': 0.006263337590822092,\n",
       " 'FUEL_MODEL_Hardwood Litter': 0.006205550682030833,\n",
       " 'FIRE_SIZE_CLASS_E': 0.004958819174246545,\n",
       " 'GROWTH_POTENTIAL_High': 0.003758382767812947,\n",
       " 'eco1_10  NORTH AMERICAN DESERTS': 0.0037449612567175892,\n",
       " 'FIRE_SIZE_CLASS_A': 0.00362370877157774,\n",
       " 'FIRE_SIZE_CLASS_D': 0.0036030482066746836,\n",
       " 'GROWTH_POTENTIAL_Medium': 0.003479815790443812,\n",
       " 'FUEL_MODEL_Southern Rough': 0.003319519460478201,\n",
       " 'FUEL_MODEL_Brush (2 feet)': 0.0031622269761696293,\n",
       " 'FUEL_MODEL_Closed Timber Litter': 0.0029670308015665755,\n",
       " 'TERRAIN_Low': 0.0027180936591226067,\n",
       " 'eco1_9  GREAT PLAINS': 0.0026823529826555653,\n",
       " 'FUEL_MODEL_Short Grass (1 foot)': 0.002598095912428543,\n",
       " 'FIRE_SIZE_CLASS_B': 0.0024987971019124573,\n",
       " 'FIRE_SIZE_CLASS_C': 0.002364317549263278,\n",
       " 'FUEL_MODEL_Heavy Logging Slash': 0.002354677296623054,\n",
       " 'GROWTH_POTENTIAL_Extreme': 0.002353407808346179,\n",
       " 'FUEL_MODEL_Dormant Brush, Hardwood Slash': 0.0023332072713540607,\n",
       " 'FATALITIES': 0.0018354763271449211,\n",
       " 'eco1_13  TEMPERATE SIERRAS': 0.001690782222379471,\n",
       " 'eco1_12  SOUTHERN SEMIARID HIGHLANDS': 0.0015417910489186114,\n",
       " 'FUEL_MODEL_Medium Logging Slash': 0.0014238343669759745,\n",
       " 'FUEL_MODEL_Light Logging Slash': 0.0010162216885308186,\n",
       " 'eco1_7  MARINE WEST COAST FOREST': 0.0008610618266749029,\n",
       " 'eco1_15  TROPICAL WET FORESTS': 0.0004002108672405026,\n",
       " 'eco1_5  NORTHERN FORESTS': 0.0002796973319170908,\n",
       " 'eco1_2  TUNDRA': 0.0,\n",
       " 'eco1_3  TAIGA': 0.0}"
      ]
     },
     "execution_count": 6,
     "metadata": {},
     "output_type": "execute_result"
    }
   ],
   "source": [
    "print(\"=============================\")\n",
    "print(\"=== RF Feature Importance ===\")\n",
    "print(\"=============================\")\n",
    "\n",
    "\n",
    "impt = rf.feature_importances_\n",
    "rf_feat_impt = {}\n",
    "for i, v in enumerate(impt):\n",
    "    rf_feat_impt[X.columns[i]] = v\n",
    "    \n",
    "rf_feat_impt = dict(sorted(rf_feat_impt.items(), key=lambda item: item[1], reverse=True))\n",
    "rf_feat_impt"
   ]
  },
  {
   "cell_type": "markdown",
   "metadata": {},
   "source": [
    "## Part (b) - Includes model interpretation"
   ]
  },
  {
   "cell_type": "markdown",
   "metadata": {},
   "source": [
    "### Decision Tree"
   ]
  },
  {
   "cell_type": "code",
   "execution_count": 7,
   "metadata": {
    "scrolled": true
   },
   "outputs": [
    {
     "data": {
      "image/png": "[encoded data removed]",
      "text/plain": [
       "<Figure size 1800x1440 with 1 Axes>"
      ]
     },
     "metadata": {
      "needs_background": "light"
     },
     "output_type": "display_data"
    }
   ],
   "source": [
    "fig = plt.figure(figsize=(25,20))\n",
    "_ = plot_tree(dtc, max_depth=3, feature_names=X.columns, fontsize=12)"
   ]
  },
  {
   "cell_type": "code",
   "execution_count": 8,
   "metadata": {
    "scrolled": true
   },
   "outputs": [
    {
     "data": {
      "text/plain": [
       "{'LATITUDE': 0.2964186887547799,\n",
       " 'DISCOVERY_DOY': 0.23683287611059564,\n",
       " 'cont_time': 0.08333826327676323,\n",
       " 'FIRE_SIZE': 0.08205648574564177,\n",
       " 'LONGITUDE': 0.07057954182307218,\n",
       " 'FIRE_YEAR': 0.03817949782754783,\n",
       " 'ACRES': 0.029324392000826437,\n",
       " 'eco1_11  MEDITERRANEAN CALIFORNIA': 0.028191993622620964,\n",
       " 'STR_DAMAGED': 0.021379902462996637,\n",
       " 'PROJECTED_FINAL_IM_COST': 0.014709658854053573,\n",
       " 'fm.mean': 0.008576979474057118,\n",
       " 'FUEL_MODEL_Southern Rough': 0.00830206720589562,\n",
       " 'Wind.mean': 0.0071811953634958285,\n",
       " 'FUEL_MODEL_Timber (Grass and Understory)': 0.0054690626974737274,\n",
       " 'TOTAL_PERSONNEL': 0.005300988514804988,\n",
       " 'TERRAIN_High': 0.005206901810714814,\n",
       " 'eco1_9  GREAT PLAINS': 0.004507060631636486,\n",
       " 'FIRE_SIZE_CLASS_F': 0.004332663138918928,\n",
       " 'TERRAIN_Extreme': 0.004324138905250695,\n",
       " 'FUEL_MODEL_Medium Logging Slash': 0.004217041521530216,\n",
       " 'FUEL_MODEL_Timber (Litter and Understory)': 0.0039828067177452185,\n",
       " 'TERRAIN_Medium': 0.003010579262597005,\n",
       " 'FUEL_MODEL_Heavy Logging Slash': 0.0029875947015225537,\n",
       " 'FUEL_MODEL_Dormant Brush, Hardwood Slash': 0.002976543990357465,\n",
       " 'FUEL_MODEL_Brush (2 feet)': 0.0028757295904693865,\n",
       " 'FIRE_SIZE_CLASS_G': 0.0026005045503989183,\n",
       " 'FUEL_MODEL_Light Logging Slash': 0.0024318252330164936,\n",
       " 'FUEL_MODEL_Closed Timber Litter': 0.0023365515770903617,\n",
       " 'eco1_8  EASTERN TEMPERATE FORESTS': 0.00213648318652528,\n",
       " 'FUEL_MODEL_Short Grass (1 foot)': 0.0017425960450302828,\n",
       " 'WF_FSR': 0.0017007228363697699,\n",
       " 'GROWTH_POTENTIAL_Medium': 0.0016189997084800946,\n",
       " 'TERRAIN_Low': 0.0014561654187951877,\n",
       " 'eco1_7  MARINE WEST COAST FOREST': 0.0014470576265619237,\n",
       " 'FUEL_MODEL_Hardwood Litter': 0.0011071461008062215,\n",
       " 'eco1_6  NORTHWESTERN FORESTED MOUNTAINS': 0.0010615041723160193,\n",
       " 'FUEL_MODEL_Tall Grass (2.5 feet)': 0.0010488823338751215,\n",
       " 'FIRE_SIZE_CLASS_E': 0.0009859093566712469,\n",
       " 'eco1_13  TEMPERATE SIERRAS': 0.0009335768867606652,\n",
       " 'FUEL_MODEL_Chaparral (6 feet)': 0.0008135020274393772,\n",
       " 'FATALITIES': 0.0005525108294087663,\n",
       " 'GROWTH_POTENTIAL_High': 0.00041421170665336646,\n",
       " 'eco1_12  SOUTHERN SEMIARID HIGHLANDS': 0.00040700343412600887,\n",
       " 'eco1_10  NORTH AMERICAN DESERTS': 0.0003687286529369603,\n",
       " 'FIRE_SIZE_CLASS_D': 0.00027667706207977277,\n",
       " 'GROWTH_POTENTIAL_Extreme': 0.00011350380257579205,\n",
       " 'FIRE_SIZE_CLASS_C': 9.679521696265383e-05,\n",
       " 'FIRE_SIZE_CLASS_B': 8.648822975177686e-05,\n",
       " 'eco1_15  TROPICAL WET FORESTS': 0.0,\n",
       " 'eco1_2  TUNDRA': 0.0,\n",
       " 'eco1_3  TAIGA': 0.0,\n",
       " 'eco1_5  NORTHERN FORESTS': 0.0,\n",
       " 'GROWTH_POTENTIAL_Low': 0.0,\n",
       " 'FIRE_SIZE_CLASS_A': 0.0}"
      ]
     },
     "execution_count": 8,
     "metadata": {},
     "output_type": "execute_result"
    }
   ],
   "source": [
    "impt = dtc.feature_importances_\n",
    "dtc_feat_impt = {}\n",
    "for i, v in enumerate(impt):\n",
    "    dtc_feat_impt[X.columns[i]] = v\n",
    "    \n",
    "dtc_feat_impt = dict(sorted(dtc_feat_impt.items(), key=lambda item: item[1], reverse=True))\n",
    "dtc_feat_impt"
   ]
  },
  {
   "cell_type": "code",
   "execution_count": 9,
   "metadata": {},
   "outputs": [],
   "source": [
    "from sklearn.tree import export_text\n",
    "\n",
    "text = export_text(dtc, feature_names=X.columns.tolist())\n",
    "with open(\"tree_out.txt\", 'w') as f:\n",
    "    f.write(text)"
   ]
  },
  {
   "cell_type": "markdown",
   "metadata": {},
   "source": [
    "### Logistic Regression"
   ]
  },
  {
   "cell_type": "code",
   "execution_count": 10,
   "metadata": {},
   "outputs": [
    {
     "name": "stdout",
     "output_type": "stream",
     "text": [
      "\n",
      "=== Feature var > .2 ===\n",
      "Per class acc: (0.5122169249106079, 0.9521534617080699)\n",
      "Total acc: 0.8651102464332037\n"
     ]
    }
   ],
   "source": [
    "X_train, X_test, y_train, y_test = train_test_split(X, y, test_size=0.2, random_state=13)\n",
    "\n",
    "\n",
    "print(\"\\n=== Feature var > .2 ===\")\n",
    "lr = LogisticRegressionCV(penalty='l2').fit(X_train, y_train.values.ravel())\n",
    "y_pred = lr.predict(X_test)\n",
    "acc_0, acc_1 = per_class_acc(y_test, y_pred)\n",
    "print(f\"Per class acc: ({acc_0}, {acc_1})\")\n",
    "print(f\"Total acc: {lr.score(X_test, y_test)}\")"
   ]
  },
  {
   "cell_type": "code",
   "execution_count": 11,
   "metadata": {},
   "outputs": [
    {
     "name": "stdout",
     "output_type": "stream",
     "text": [
      "\n",
      "=== Feature var > .2 ===\n",
      "Per class acc: (0.4353396901072706, 0.9522269586946935)\n",
      "Total acc: 0.8499587312816885\n"
     ]
    }
   ],
   "source": [
    "from sklearn.feature_selection import VarianceThreshold\n",
    "\n",
    "sel = VarianceThreshold(threshold=.2)\n",
    "X_new = sel.fit_transform(X)\n",
    "X_train, X_test, y_train, y_test = train_test_split(X_new, y, test_size=0.2, random_state=13)\n",
    "\n",
    "\n",
    "print(\"\\n=== Feature var > .2 ===\")\n",
    "lr = LogisticRegressionCV(penalty='l2').fit(X_train, y_train.values.ravel())\n",
    "y_pred = lr.predict(X_test)\n",
    "acc_0, acc_1 = per_class_acc(y_test, y_pred)\n",
    "print(f\"Per class acc: ({acc_0}, {acc_1})\")\n",
    "print(f\"Total acc: {lr.score(X_test, y_test)}\")"
   ]
  },
  {
   "cell_type": "code",
   "execution_count": 12,
   "metadata": {},
   "outputs": [
    {
     "name": "stdout",
     "output_type": "stream",
     "text": [
      "\n",
      "=== k = 1 ===\n",
      "Per class acc: (0.3542908224076281, 0.9397324709686903)\n",
      "Total acc: 0.8239004834335574\n",
      "\n",
      "=== k = 2 ===\n",
      "Per class acc: (0.3542908224076281, 0.9397324709686903)\n",
      "Total acc: 0.8239004834335574\n",
      "\n",
      "=== k = 3 ===\n",
      "Per class acc: (0.3843861740166865, 0.9394384830221961)\n",
      "Total acc: 0.8296191486852965\n",
      "\n",
      "=== k = 4 ===\n",
      "Per class acc: (0.36144219308700837, 0.9550933411730119)\n",
      "Total acc: 0.8376370711001061\n",
      "\n",
      "=== k = 5 ===\n",
      "Per class acc: (0.35816448152562574, 0.9553138321328826)\n",
      "Total acc: 0.8371654286051173\n",
      "\n",
      "=== k = 6 ===\n",
      "Per class acc: (0.517580452920143, 0.9186388358077319)\n",
      "Total acc: 0.839287819832567\n",
      "\n",
      "=== k = 7 ===\n",
      "Per class acc: (0.5116209773539928, 0.921872703219168)\n",
      "Total acc: 0.8407027473175334\n",
      "\n",
      "=== k = 8 ===\n",
      "Per class acc: (0.47943980929678187, 0.9336322210789357)\n",
      "Total acc: 0.8437684235349605\n",
      "\n",
      "=== k = 9 ===\n",
      "Per class acc: (0.483015494636472, 0.9335587240923122)\n",
      "Total acc: 0.8444169319655701\n",
      "\n",
      "=== k = 10 ===\n",
      "Per class acc: (0.4705005959475566, 0.9437748052329854)\n",
      "Total acc: 0.8501355972173092\n",
      "\n",
      "=== k = 11 ===\n",
      "Per class acc: (0.4535160905840286, 0.9532559165074233)\n",
      "Total acc: 0.8543803796722085\n",
      "\n",
      "=== k = 12 ===\n",
      "Per class acc: (0.4576877234803337, 0.9494340732029987)\n",
      "Total acc: 0.8521400778210116\n",
      "\n",
      "=== k = 13 ===\n",
      "Per class acc: (0.46245530393325385, 0.9561957959723651)\n",
      "Total acc: 0.8585072515033605\n",
      "\n",
      "=== k = 14 ===\n",
      "Per class acc: (0.4705005959475566, 0.9515654858150816)\n",
      "Total acc: 0.8563848602759109\n",
      "\n",
      "=== k = 15 ===\n",
      "Per class acc: (0.46096543504171633, 0.9573717477583419)\n",
      "Total acc: 0.8591557599339701\n",
      "\n",
      "=== k = 16 ===\n",
      "Per class acc: (0.4627532777115614, 0.9594296633838013)\n",
      "Total acc: 0.8611602405376725\n",
      "\n",
      "=== k = 17 ===\n",
      "Per class acc: (0.45589988081048866, 0.9595766573570483)\n",
      "Total acc: 0.8599221789883269\n",
      "\n",
      "=== k = 18 ===\n",
      "Per class acc: (0.465435041716329, 0.9592826694105542)\n",
      "Total acc: 0.8615729277207876\n",
      "\n",
      "=== k = 19 ===\n",
      "Per class acc: (0.46781883194278906, 0.9598706453035426)\n",
      "Total acc: 0.8625162127107653\n",
      "\n",
      "=== k = 20 ===\n",
      "Per class acc: (0.47139451728247916, 0.9573717477583419)\n",
      "Total acc: 0.8612191958495461\n",
      "\n",
      "=== k = 21 ===\n",
      "Per class acc: (0.47497020262216927, 0.957518741731589)\n",
      "Total acc: 0.8620445702157764\n",
      "\n",
      "=== k = 22 ===\n",
      "Per class acc: (0.4728843861740167, 0.9578862266647068)\n",
      "Total acc: 0.8619266595920292\n",
      "\n",
      "=== k = 23 ===\n",
      "Per class acc: (0.47497020262216927, 0.9574452447449655)\n",
      "Total acc: 0.8619856149039028\n",
      "\n",
      "=== k = 24 ===\n",
      "Per class acc: (0.46305125148986886, 0.9563427899456123)\n",
      "Total acc: 0.8587430727508548\n"
     ]
    }
   ],
   "source": [
    "from sklearn.feature_selection import GenericUnivariateSelect, chi2\n",
    "\n",
    "for i in range(1, 25):\n",
    "    \n",
    "    X_new = X.copy()\n",
    "    X_new[X_new<0] = 0\n",
    "    X_new.min()\n",
    "    \n",
    "    transformer = GenericUnivariateSelect(chi2, mode='k_best', param=i)\n",
    "    X_new = transformer.fit_transform(X_new, y)\n",
    "    X_train, X_test, y_train, y_test = train_test_split(X_new, y, test_size=0.2, random_state=13)\n",
    "\n",
    "    print(f\"\\n=== k = {i} ===\")\n",
    "    lr = LogisticRegressionCV(penalty='l2').fit(X_train, y_train.values.ravel())\n",
    "    y_pred = lr.predict(X_test)\n",
    "    acc_0, acc_1 = per_class_acc(y_test, y_pred)\n",
    "    print(f\"Per class acc: ({acc_0}, {acc_1})\")\n",
    "    print(f\"Total acc: {lr.score(X_test, y_test)}\")"
   ]
  },
  {
   "cell_type": "code",
   "execution_count": 13,
   "metadata": {},
   "outputs": [
    {
     "name": "stdout",
     "output_type": "stream",
     "text": [
      "\n",
      "=== c = 0.0005 ===\n",
      "Per class acc: (0.39779499404052443, 0.9511245038953403)\n",
      "Total acc: 0.8416460323075109\n",
      "\n",
      "=== c = 0.001 ===\n",
      "Per class acc: (0.43921334922526817, 0.9504630310157284)\n",
      "Total acc: 0.8493102228510789\n",
      "\n",
      "=== c = 0.01 ===\n",
      "Per class acc: (0.5116209773539928, 0.9547993532265178)\n",
      "Total acc: 0.8671147270369061\n",
      "\n",
      "=== c = 0.1 ===\n"
     ]
    },
    {
     "name": "stderr",
     "output_type": "stream",
     "text": [
      "/home/sreisig/anaconda3/envs/math561/lib/python3.7/site-packages/sklearn/linear_model/_sag.py:330: ConvergenceWarning: The max_iter was reached which means the coef_ did not converge\n",
      "  \"the coef_ did not converge\", ConvergenceWarning)\n"
     ]
    },
    {
     "name": "stdout",
     "output_type": "stream",
     "text": [
      "Per class acc: (0.5122169249106079, 0.9522269586946935)\n",
      "Total acc: 0.8651692017450773\n",
      "\n",
      "=== c = 1 ===\n",
      "Per class acc: (0.5122169249106079, 0.9521534617080699)\n",
      "Total acc: 0.8651102464332037\n"
     ]
    }
   ],
   "source": [
    "from sklearn.feature_selection import SelectFromModel\n",
    "from sklearn.linear_model import LogisticRegression\n",
    "\n",
    "c_vals = [0.0005, 0.001, 0.01, 0.1, 1]\n",
    "X_train, X_test, y_train, y_test = train_test_split(X, y, test_size=0.2, random_state=13)\n",
    "\n",
    "\n",
    "for c in c_vals:\n",
    "        \n",
    "    print(f\"\\n=== c = {c} ===\")\n",
    "    lr = LogisticRegression(penalty='l1', solver='saga', C=c, max_iter=500).fit(X_train, y_train.values.ravel())\n",
    "    model = SelectFromModel(lr, prefit=True)\n",
    "    Xtrain_new = model.transform(X_train)\n",
    "    Xtest_new = model.transform(X_test)\n",
    "    \n",
    "    lr = LogisticRegressionCV(penalty='l2', max_iter=500).fit(Xtrain_new, y_train.values.ravel())\n",
    "    y_pred = lr.predict(Xtest_new)\n",
    "    acc_0, acc_1 = per_class_acc(y_test, y_pred)\n",
    "    print(f\"Per class acc: ({acc_0}, {acc_1})\")\n",
    "    print(f\"Total acc: {lr.score(Xtest_new, y_test)}\")"
   ]
  },
  {
   "cell_type": "code",
   "execution_count": 14,
   "metadata": {},
   "outputs": [
    {
     "name": "stdout",
     "output_type": "stream",
     "text": [
      "Per class acc: (0.7941001191895113, 0.8150080846685286)\n",
      "Total acc: 0.8108713595094919\n"
     ]
    }
   ],
   "source": [
    "lr = LogisticRegressionCV(class_weight='balanced').fit(X_train, y_train.values.ravel())\n",
    "y_pred = lr.predict(X_test)\n",
    "acc_0, acc_1 = per_class_acc(y_test, y_pred)\n",
    "print(f\"Per class acc: ({acc_0}, {acc_1})\")\n",
    "print(f\"Total acc: {lr.score(X_test, y_test)}\")"
   ]
  },
  {
   "cell_type": "code",
   "execution_count": 15,
   "metadata": {},
   "outputs": [
    {
     "name": "stdout",
     "output_type": "stream",
     "text": [
      "Per class acc: (0.8009535160905841, 0.8129501690430693)\n",
      "Total acc: 0.8105765829501238\n"
     ]
    }
   ],
   "source": [
    "X_train_new = X_train.drop(columns=['DISCOVERY_DOY'])\n",
    "X_test_new = X_test.drop(columns=['DISCOVERY_DOY'])\n",
    "lr = LogisticRegressionCV(class_weight='balanced').fit(X_train_new, y_train.values.ravel())\n",
    "y_pred = lr.predict(X_test_new)\n",
    "acc_0, acc_1 = per_class_acc(y_test, y_pred)\n",
    "print(f\"Per class acc: ({acc_0}, {acc_1})\")\n",
    "print(f\"Total acc: {lr.score(X_test_new, y_test)}\")"
   ]
  },
  {
   "cell_type": "code",
   "execution_count": 16,
   "metadata": {},
   "outputs": [
    {
     "data": {
      "text/plain": [
       "{'TERRAIN_Medium': 1.3635637409848218,\n",
       " 'FUEL_MODEL_Short Grass (1 foot)': 1.1619221959776524,\n",
       " 'FIRE_SIZE_CLASS_A': 1.080159686365698,\n",
       " 'eco1_13  TEMPERATE SIERRAS': 0.8745970222306269,\n",
       " 'eco1_12  SOUTHERN SEMIARID HIGHLANDS': 0.864004812439471,\n",
       " 'FIRE_SIZE': 0.7838089799830137,\n",
       " 'FIRE_YEAR': 0.7646136875568409,\n",
       " 'FIRE_SIZE_CLASS_B': 0.6154097057502579,\n",
       " 'FUEL_MODEL_Tall Grass (2.5 feet)': 0.5517698140125452,\n",
       " 'PROJECTED_FINAL_IM_COST': 0.534201727256256,\n",
       " 'FUEL_MODEL_Medium Logging Slash': 0.47681730442491577,\n",
       " 'FUEL_MODEL_Timber (Litter and Understory)': 0.4354115793325596,\n",
       " 'eco1_9  GREAT PLAINS': 0.4217750871816477,\n",
       " 'FUEL_MODEL_Timber (Grass and Understory)': 0.3753847101594232,\n",
       " 'FUEL_MODEL_Chaparral (6 feet)': 0.3375265435541439,\n",
       " 'cont_time': 0.3303778058408809,\n",
       " 'eco1_5  NORTHERN FORESTS': 0.2905288948253743,\n",
       " 'GROWTH_POTENTIAL_Medium': 0.27054454066756944,\n",
       " 'GROWTH_POTENTIAL_Extreme': 0.25646239866854026,\n",
       " 'LATITUDE': 0.2358471748856564,\n",
       " 'eco1_8  EASTERN TEMPERATE FORESTS': 0.2356697723318788,\n",
       " 'FUEL_MODEL_Closed Timber Litter': 0.20898976157557012,\n",
       " 'TERRAIN_Extreme': 0.1783585132422843,\n",
       " 'FUEL_MODEL_Light Logging Slash': 0.13786509600902386,\n",
       " 'STR_DAMAGED': 0.07135731225264141,\n",
       " 'fm.mean': 0.051788391570021367,\n",
       " 'WF_FSR': 0.05055571497038519,\n",
       " 'eco1_15  TROPICAL WET FORESTS': 0.0,\n",
       " 'eco1_2  TUNDRA': 0.0,\n",
       " 'eco1_3  TAIGA': -0.04064902301131017,\n",
       " 'LONGITUDE': -0.088663283139018,\n",
       " 'GROWTH_POTENTIAL_Low': -0.10048316571401585,\n",
       " 'FUEL_MODEL_Brush (2 feet)': -0.11631837608755494,\n",
       " 'ACRES': -0.1778449619903831,\n",
       " 'Wind.mean': -0.1884478936676412,\n",
       " 'TERRAIN_High': -0.21650871175003603,\n",
       " 'TERRAIN_Low': -0.21743259977930884,\n",
       " 'DISCOVERY_DOY': -0.2960078655656779,\n",
       " 'FIRE_SIZE_CLASS_C': -0.39904431576865707,\n",
       " 'TOTAL_PERSONNEL': -0.4028486086932944,\n",
       " 'eco1_7  MARINE WEST COAST FOREST': -0.4526355861999896,\n",
       " 'FATALITIES': -0.4697312242822737,\n",
       " 'FUEL_MODEL_Dormant Brush, Hardwood Slash': -0.476376400429991,\n",
       " 'eco1_11  MEDITERRANEAN CALIFORNIA': -0.5364742522318774,\n",
       " 'GROWTH_POTENTIAL_High': -0.5764290699065748,\n",
       " 'FIRE_SIZE_CLASS_D': -0.665761174012094,\n",
       " 'FUEL_MODEL_Heavy Logging Slash': -0.7713443242941584,\n",
       " 'eco1_6  NORTHWESTERN FORESTED MOUNTAINS': -0.8316349582460041,\n",
       " 'FIRE_SIZE_CLASS_E': -0.8376046739607435,\n",
       " 'FUEL_MODEL_Southern Rough': -0.9055006695010666,\n",
       " 'FIRE_SIZE_CLASS_F': -1.1417612269787876,\n",
       " 'eco1_10  NORTH AMERICAN DESERTS': -1.1722539197406867,\n",
       " 'FUEL_MODEL_Hardwood Litter': -1.3875490002016473}"
      ]
     },
     "execution_count": 16,
     "metadata": {},
     "output_type": "execute_result"
    }
   ],
   "source": [
    "coef = lr.coef_\n",
    "lr_coef = {}\n",
    "for i, v in enumerate(coef[0]):\n",
    "    lr_coef[X.columns[i]] = v\n",
    "    \n",
    "lr_coef = dict(sorted(lr_coef.items(), key=lambda item: item[1], reverse=True))\n",
    "lr_coef"
   ]
  }
 ],
 "metadata": {
  "kernelspec": {
   "display_name": "math561",
   "language": "python",
   "name": "math561"
  },
  "language_info": {
   "codemirror_mode": {
    "name": "ipython",
    "version": 3
   },
   "file_extension": ".py",
   "mimetype": "text/x-python",
   "name": "python",
   "nbconvert_exporter": "python",
   "pygments_lexer": "ipython3",
   "version": "3.7.9"
  }
 },
 "nbformat": 4,
 "nbformat_minor": 4
}
